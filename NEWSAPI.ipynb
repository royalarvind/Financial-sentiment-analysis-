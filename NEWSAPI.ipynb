{
 "cells": [
  {
   "cell_type": "code",
   "execution_count": 18,
   "metadata": {},
   "outputs": [
    {
     "name": "stdout",
     "output_type": "stream",
     "text": [
      "Harley Davidson Bronx 975 Deleted From Official Website - Launch Cancelled? - RushLane\n",
      "Royal Enfield Introduces New Mobile App For Android & iOS - GaadiWaadi.com\n",
      "NTPC share price gains after singing MoU with L&T for methanol plants - Moneycontrol.com\n",
      "Muthoot Finance share price down 5% after brokerages flag rich valuation - Moneycontrol.com\n",
      "Soon-Launching New Gen Hyundai Elite i20 Spotted On Video - GaadiWaadi.com\n",
      "India’s first rate-setting panel bows out with a mixed record - Economic Times\n",
      "Gold price today fall, plunge ₹1,200 in 2 days; silver rates crash - Livemint\n",
      "Top buy and sell ideas by Ashwani Gujral, Sudarshan Sukhani, Mitesh Thakkar for short term - Moneycontrol.com\n",
      "Thursday's top brokerage calls: Vedanta, Tata Power and more - CNBCTV18\n",
      "The $2 trillion ‘question’: How Apple became the most valuable tech company in the world - Gadgets Now\n",
      "Stocks in focus: Yes Bank, CSB Bank, Muthoot Finance, Dr Reddy’s Lab, Indian Overseas Bank - The Financial Express\n",
      "In pics | Stocks in the news: IRCTC, Future Consumer, Gillette India, L&T Finance, HAL - Moneycontrol.com\n",
      "What changed for the market while you were sleeping? Top 10 things to know - Moneycontrol.com\n",
      "Govt Analysts Say Signs of Recovery in Rural Economy Hailed by PM Modi 'At Best a Mitigating Factor' - News18\n",
      "A stock’s 8,764% surge spurs India to rethink shareholding rules - Economic Times\n",
      "Mahindra Thar Five-Door Version Being Considered For Launch - Report - GaadiWaadi.com\n",
      "All You Need To Know Going Into Trade On August 20 - BloombergQuint\n",
      "$2.7bn by 2023, big players enter race for e-pharma pie - The Indian Express\n",
      "Tatas Air India gamble could reveal the path of groups aviation business - Business Standard\n",
      "Top-performing India hedge fund says stocks have risen too fast - Livemint\n"
     ]
    }
   ],
   "source": [
    "import requests\n",
    "url = ('http://newsapi.org/v2/top-headlines?country=in&category=business&apiKey=a4165bc97a4b44d6904edbd14f1e9785')\n",
    "response = requests.get(url)\n",
    "response = response.json()\n",
    "for i in response['articles']:\n",
    "    print(i['title'])\n"
   ]
  }
 ],
 "metadata": {
  "kernelspec": {
   "display_name": "Python 3",
   "language": "python",
   "name": "python3"
  },
  "language_info": {
   "codemirror_mode": {
    "name": "ipython",
    "version": 3
   },
   "file_extension": ".py",
   "mimetype": "text/x-python",
   "name": "python",
   "nbconvert_exporter": "python",
   "pygments_lexer": "ipython3",
   "version": "3.7.2"
  }
 },
 "nbformat": 4,
 "nbformat_minor": 4
}
